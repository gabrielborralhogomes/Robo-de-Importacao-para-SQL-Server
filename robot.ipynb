{
 "cells": [
  {
   "cell_type": "code",
   "execution_count": 13,
   "id": "0d72d315-e2a2-4b9b-9589-745d64bd9940",
   "metadata": {},
   "outputs": [],
   "source": [
    "import os\n",
    "import json\n",
    "from cryptography.fernet import Fernet\n",
    "import pyodbc\n",
    "import pandas as pd\n",
    "import shutil\n",
    "import time\n",
    "from datetime import datetime, timedelta\n",
    "from IPython.display import display, HTML\n",
    "from sqlalchemy import create_engine, NVARCHAR, text\n",
    "import sqlalchemy\n",
    "import urllib\n",
    "from sqlalchemy.types import String, Integer, DateTime  # Adicione esta linha no início do seu script\n",
    "\n",
    "# Função para destacar as mensagens de erro e funcionamento\n",
    "def print_error(*args):\n",
    "    message = ' '.join(map(str, args))\n",
    "    display(HTML(f\"<span style='color:red;'>{message}</span>\"))\n",
    "\n",
    "\n",
    "def print_ok(*args):\n",
    "    message = ' '.join(map(str, args))\n",
    "    display(HTML(f\"<span style='color:green;'>{message}</span>\"))"
   ]
  },
  {
   "cell_type": "markdown",
   "id": "5a6ebae4-26d1-43c5-a322-53acd66a9271",
   "metadata": {},
   "source": [
    "Formato do arquivo config.txt:\n",
    "\n",
    "- caminho=/caminho/para/a/pasta\n",
    "- instancia=sua_instancia_db\n",
    "- banco=seu_banco_de_dados\n",
    "- login=seu_login\n",
    "- senha=sua_senha_criptografada\r\n"
   ]
  },
  {
   "cell_type": "markdown",
   "id": "4e959784-407d-401a-aec7-68940b5a2a1a",
   "metadata": {},
   "source": [
    "## 1 - Abrir o Bloco de Notas e Carregar as Variáveis"
   ]
  },
  {
   "cell_type": "code",
   "execution_count": 5,
   "id": "e04fafef-721d-4cc4-8ae0-fa861350e715",
   "metadata": {},
   "outputs": [],
   "source": [
    "def load_config(file_path):\n",
    "    config = {}\n",
    "    with open(file_path, 'r', encoding='utf-8') as file:\n",
    "        for line in file:\n",
    "            line = line.strip()\n",
    "            if line and '=' in line:  # Ignora linhas em branco e verifica se contém '='\n",
    "                try:\n",
    "                    key, value = line.split('=', 1)  # Dividir apenas na primeira '='\n",
    "                    config[key] = value\n",
    "                except ValueError:\n",
    "                    print_error(f\"Ignorando linha inválida no arquivo de configuração: {line}\")\n",
    "    print_ok(f\"1 - Configurações carregadas.\")\n",
    "    return config"
   ]
  },
  {
   "cell_type": "markdown",
   "id": "4f088513-6c1b-4b06-99dd-13f0f3784da6",
   "metadata": {},
   "source": [
    "## 2 - Carregar uma Coleção de Todos os Arquivos Excel na Pasta"
   ]
  },
  {
   "cell_type": "code",
   "execution_count": 8,
   "id": "890a9913-f827-483d-8f2d-d30c9e735ea1",
   "metadata": {},
   "outputs": [],
   "source": [
    "def load_excel_files(folder_path):\n",
    "    # Carrega todos os caminhos dos arquivos .xls da pasta especificada\n",
    "    excel_files = [os.path.join(folder_path, f) for f in os.listdir(folder_path) if f.endswith('.xls')]\n",
    "    \n",
    "    # Exibe os arquivos encontrados\n",
    "    if excel_files:\n",
    "        print(f\"Arquivos Excel encontrados: {excel_files}\")\n",
    "    else:\n",
    "        print_error(\"Nenhum arquivo Excel encontrado na pasta.\")\n",
    "    \n",
    "    return excel_files"
   ]
  },
  {
   "cell_type": "markdown",
   "id": "00ac454a-8b95-4e66-855a-710283f2b253",
   "metadata": {},
   "source": [
    "## 3 - Descriptografar a Senha"
   ]
  },
  {
   "cell_type": "code",
   "execution_count": 9,
   "id": "349aae67-b7a9-4fb0-8ae5-00123edd904e",
   "metadata": {},
   "outputs": [],
   "source": [
    "def decrypt_password(encrypted_password):\n",
    "    # Chave usada para a descriptografia (substitua pela sua chave real)\n",
    "    key = b''\n",
    "    cipher_suite = Fernet(key)\n",
    "\n",
    "    print(\"3 - Iniciando a descriptografia da senha...\")\n",
    "\n",
    "    try:\n",
    "        # Descriptografa a senha\n",
    "        decrypted_password = cipher_suite.decrypt(encrypted_password.encode()).decode()\n",
    "        print_ok(\"3 - Senha descriptografada com sucesso!\")\n",
    "    except Exception as e:\n",
    "        print_error(f\"3 - Erro durante a descriptografia: {e}\")\n",
    "        return None\n",
    "\n",
    "    return decrypted_password"
   ]
  },
  {
   "cell_type": "markdown",
   "id": "0c460697-9e48-4480-9527-28af53ca9f50",
   "metadata": {},
   "source": [
    "## 4 - Conectar com o DBMimport"
   ]
  },
  {
   "cell_type": "code",
   "execution_count": 14,
   "id": "c3986c7d-9698-48cb-9704-da7e0ea2b227",
   "metadata": {},
   "outputs": [],
   "source": [
    "def connect_to_db(instance, database, username, password):\n",
    "    print(\"4 - Iniciando a conexão com o banco de dados...\")\n",
    "    \n",
    "    # Monta a string de conexão\n",
    "    params = urllib.parse.quote_plus(f'DRIVER={{SQL Server}};SERVER={instance};DATABASE={database};UID={username};PWD={password}')\n",
    "    connection_string = f'mssql+pyodbc:///?odbc_connect={params}'\n",
    "    \n",
    "    try:\n",
    "        # Tenta conectar ao banco de dados\n",
    "        engine = create_engine(connection_string)\n",
    "        connection = engine.connect()\n",
    "        print_ok(\"4 - Conexão estabelecida com sucesso!\")\n",
    "        return connection\n",
    "    except Exception as e:\n",
    "        print_error(f\"4 - Erro ao conectar ao banco de dados: {e}\")\n",
    "        return None"
   ]
  },
  {
   "cell_type": "markdown",
   "id": "019d5b7e-b739-411f-a2dc-096c3ac213a4",
   "metadata": {},
   "source": [
    "## 5 - Ler a Coleção e Inserir os Registros Não Nulos na tabela"
   ]
  },
  {
   "cell_type": "code",
   "execution_count": 17,
   "id": "5aa34163-189e-4c7f-813b-efe272e5d390",
   "metadata": {},
   "outputs": [],
   "source": [
    "def insert_records_to_db(file_paths, connection):\n",
    "    # Nome fixo da tabela\n",
    "    table_name = ''\n",
    "\n",
    "    # Processa os dados do Excel e obtém um DataFrame\n",
    "    df = process_excel_data(file_paths)\n",
    "\n",
    "    try:\n",
    "        with connection.begin():  # Inicia uma nova transação\n",
    "            # Verifica se a tabela existe\n",
    "            exists = connection.execute(\n",
    "                text(f\"\"\"\n",
    "                SELECT COUNT(*) \n",
    "                FROM INFORMATION_SCHEMA.TABLES \n",
    "                WHERE TABLE_NAME = '{table_name}'\n",
    "                \"\"\")\n",
    "            ).scalar()\n",
    "\n",
    "            if not exists:\n",
    "                print_error(f\"A tabela {table_name} não existe. Certifique-se de que a tabela esteja criada antes de inserir os dados.\")\n",
    "                return\n",
    "            \n",
    "            print_ok(f\"Tabela {table_name} existe.\")\n",
    "\n",
    "            # Inserir os dados\n",
    "            for index, row in df.iterrows():\n",
    "                connection.execute(\n",
    "                    text(f\"\"\"\n",
    "                    INSERT INTO {table_name} ({', '.join(df.columns)})\n",
    "                    VALUES ({', '.join([':' + col for col in df.columns])})\n",
    "                    \"\"\"),\n",
    "                    row.to_dict()  # Converte a linha em um dicionário para os parâmetros\n",
    "                )\n",
    "\n",
    "        print_ok(f\"Registros inseridos com sucesso na tabela {table_name}.\")\n",
    "        return True\n",
    "    except Exception as e:\n",
    "        print_error(f\"Erro ao inserir registros: {str(e)}\")\n",
    "        return False"
   ]
  },
  {
   "cell_type": "markdown",
   "id": "eb463dbc-f12d-4475-a644-11a50c383c6f",
   "metadata": {},
   "source": [
    "## 6 - Verificar se Existe a Pasta \"Processados\" e Criar se Não Existir"
   ]
  },
  {
   "cell_type": "code",
   "execution_count": 20,
   "id": "12e47ce8-65ac-49a7-b412-87d10ac20566",
   "metadata": {},
   "outputs": [],
   "source": [
    "def create_processed_folder(folder_path):\n",
    "    processed_folder = os.path.join(folder_path, 'Processados')\n",
    "    \n",
    "    print(f\"6 - Verificando a existência da pasta: {processed_folder}...\")\n",
    "    \n",
    "    if not os.path.exists(processed_folder):\n",
    "        print(\"6 - Pasta 'Processados' não encontrada. Criando a pasta...\")\n",
    "        os.makedirs(processed_folder)\n",
    "        print(\"6 - Pasta 'Processados' criada com sucesso!\")\n",
    "    else:\n",
    "        print(\"6 - A pasta 'Processados' já existe.\")\n",
    "        \n",
    "    return processed_folder"
   ]
  },
  {
   "cell_type": "markdown",
   "id": "ddfa6ae3-434b-4130-afd3-4e78b85b60d0",
   "metadata": {},
   "source": [
    "## 7 - Mover as Planilhas Carregadas para a Pasta \"Processados\""
   ]
  },
  {
   "cell_type": "code",
   "execution_count": 23,
   "id": "053b0bc0-c299-4ce3-a35d-26ee4df21892",
   "metadata": {},
   "outputs": [],
   "source": [
    "def move_to_processed(file_path, processed_folder):\n",
    "    print(f\"7 - Movendo o arquivo: {file_path} para a pasta 'Processados'...\")\n",
    "    \n",
    "    try:\n",
    "        shutil.move(file_path, processed_folder)\n",
    "        print_ok(f\"7 - Arquivo movido com sucesso para: {processed_folder}\")\n",
    "    except Exception as e:\n",
    "        print_error(f\"7 - Erro ao mover o arquivo: {e}\")"
   ]
  },
  {
   "cell_type": "markdown",
   "id": "bd1d4f53-ce4b-4fcb-9120-7022698f3b3c",
   "metadata": {},
   "source": [
    "## 8 - O Robô Deve Dormir Somente Depois que o Caminho Raiz Estiver Vazio de Planilhas Excel"
   ]
  },
  {
   "cell_type": "code",
   "execution_count": 26,
   "id": "9a69cab1-35a5-4cf7-b973-3a19aec50b22",
   "metadata": {},
   "outputs": [],
   "source": [
    "def wait_until_empty(folder_path):\n",
    "    print(f\"8 - Aguardando até que a pasta {folder_path} fique vazia...\")\n",
    "    \n",
    "    while len(load_excel_files(folder_path)) > 0:\n",
    "        print(\"8 - A pasta ainda contém arquivos Excel. Aguardando 1 minuto...\")\n",
    "        time.sleep(60)  # Espera 1 minuto\n",
    "    \n",
    "    print_ok(\"8 - A pasta está vazia. Continuando o processo.\")"
   ]
  },
  {
   "cell_type": "markdown",
   "id": "2df963d8-fba7-427e-b150-43003aadf2a6",
   "metadata": {},
   "source": [
    "## 9 - Colocar o Timer para o Robô Acordar às 9 da Manhã do Dia Seguinte"
   ]
  },
  {
   "cell_type": "code",
   "execution_count": 39,
   "id": "a40fde55-cd56-4a20-86cd-700c9a4f3378",
   "metadata": {},
   "outputs": [],
   "source": [
    "def sleep_until_next_run():\n",
    "    global ultima_execucao\n",
    "    # Definindo os horários de início e término do trabalho com horas e minutos\n",
    "    horario_inicio = (9, 0)  # (HORAS, MINUTOS)\n",
    "    horario_termino = (12, 00)  # (HORAS, MINUTOS)\n",
    "    \n",
    "    # Definindo o intervalo entre as tentativas em minutos\n",
    "    horario_tentativas = 30  # Intervalo entre as tentativas ( EM MINUTOS )\n",
    "\n",
    "    now = datetime.now()\n",
    "    print(f\"9 - Data e hora atuais: {now}\")\n",
    "\n",
    "    if ultima_execucao > 0:\n",
    "        # Se já executou hoje, dorme até o próximo dia útil no horário de início\n",
    "        if now.weekday() >= 5:  # Fim de semana (sábado ou domingo)\n",
    "            next_run_time = (now + timedelta(days=(7 - now.weekday()))).replace(hour=horario_inicio[0], minute=horario_inicio[1], second=0, microsecond=0)\n",
    "            print_ok(f\"9 - Fim de semana. Dormindo até segunda-feira: {next_run_time}\")\n",
    "        else:\n",
    "            next_run_time = (now + timedelta(days=1)).replace(hour=horario_inicio[0], minute=horario_inicio[1], second=0, microsecond=0)\n",
    "            print_ok(f\"9 - Já trabalhou hoje. Dormindo até o dia seguinte às {horario_inicio[0]}h{horario_inicio[1]:02d}: {next_run_time}\")\n",
    "    else:\n",
    "        # Se ainda não executou hoje, verifica o horário e dorme pelo intervalo definido\n",
    "        if now.weekday() >= 5:  # Fim de semana\n",
    "            next_run_time = (now + timedelta(days=(7 - now.weekday()))).replace(hour=horario_inicio[0], minute=horario_inicio[1], second=0, microsecond=0)\n",
    "            print_ok(f\"9 - Fim de semana. Dormindo até segunda-feira: {next_run_time}\")\n",
    "        else:\n",
    "            if now.hour < horario_inicio[0] or (now.hour == horario_inicio[0] and now.minute < horario_inicio[1]):\n",
    "                # Se for antes do horário de início, dorme até o horário de início\n",
    "                next_run_time = now.replace(hour=horario_inicio[0], minute=horario_inicio[1], second=0, microsecond=0)\n",
    "                print(f\"9 - Aguardando até às {horario_inicio[0]}h{horario_inicio[1]:02d}: {next_run_time}\")\n",
    "            elif now.hour < horario_termino[0] or (now.hour == horario_termino[0] and now.minute < horario_termino[1]):\n",
    "                # Se estiver dentro do horário de trabalho, dorme pelo intervalo definido\n",
    "                next_run_time = now + timedelta(minutes=horario_tentativas)\n",
    "                print(f\"9 - Dentro do horário de trabalho. Dormindo por {horario_tentativas} minutos: {next_run_time}\")\n",
    "            else:\n",
    "                # Se já passou do horário de trabalho, dorme até o próximo dia útil\n",
    "                next_run_time = (now + timedelta(days=1)).replace(hour=horario_inicio[0], minute=horario_inicio[1], second=0, microsecond=0)\n",
    "                print(f\"9 - Já passou do horário de trabalho. Dormindo até o dia seguinte às {horario_inicio[0]}h{horario_inicio[1]:02d}: {next_run_time}\")\n",
    "\n",
    "    # Calcula o tempo de sono\n",
    "    sleep_time = (next_run_time - now).total_seconds()\n",
    "    hours, remainder = divmod(sleep_time, 3600)\n",
    "    minutes, seconds = divmod(remainder, 60)\n",
    "\n",
    "    # Exibe o tempo de espera no formato horas:minutos:segundos\n",
    "    print_ok(f\"9 - Tempo de espera: {int(hours):02d}:{int(minutes):02d}:{int(seconds):02d}\")\n",
    "    time.sleep(sleep_time)\n",
    "\n",
    "    ultima_execucao = 0"
   ]
  },
  {
   "cell_type": "markdown",
   "id": "f0e77470-8a5e-41c7-aaaf-b17e7bb3e22c",
   "metadata": {},
   "source": [
    "## 10 - Transformar o Excel em um DataFrame Pandas"
   ]
  },
  {
   "cell_type": "code",
   "execution_count": 42,
   "id": "2555e30a-0aea-418a-ad13-ae51a9946ae4",
   "metadata": {},
   "outputs": [],
   "source": [
    "def process_excel_data(file_paths):\n",
    "    try:\n",
    "        # Ler o arquivo Excel\n",
    "        df = pd.read_excel(file_paths)\n",
    "\n",
    "        # Remover colunas 'Unnamed' e linhas com valores nulos nas colunas obrigatórias\n",
    "        non_null_records = df.loc[:, ~df.columns.str.contains('^Unnamed')]\n",
    "        required_columns = ['DATA', 'CODIGO', 'CENTRODECUSTO', 'POSTODESERVICO', 'FUNCIONARIO', 'TIPO']\n",
    "        non_null_records = non_null_records.dropna(subset=required_columns)\n",
    "        non_null_records = non_null_records.dropna(thresh=len(non_null_records.columns) - 10).copy()\n",
    "\n",
    "        # Garantir que as colunas tenham os tipos corretos\n",
    "        non_null_records['DATA'] = pd.to_datetime(non_null_records['DATA'], errors='coerce')\n",
    "        non_null_records['CODIGO'] = non_null_records['CODIGO'].astype(str)\n",
    "        non_null_records['CENTRODECUSTO'] = non_null_records['CENTRODECUSTO'].astype(str)\n",
    "        non_null_records['POSTODESERVICO'] = non_null_records['POSTODESERVICO'].astype(str)\n",
    "        non_null_records['FUNCIONARIO'] = non_null_records['FUNCIONARIO'].astype(str)\n",
    "        non_null_records['TIPO'] = non_null_records['TIPO'].astype(str)\n",
    "        non_null_records['Refeicao'] = non_null_records['Refeicao'].astype(str)\n",
    "        non_null_records['Ausencia'] = non_null_records['Ausencia'].astype(str)\n",
    "        non_null_records['DataReposicao'] = non_null_records['DESCRICAOALTERACAO'].fillna(0).astype('int32')\n",
    "        non_null_records['OBSINSPETOR'] = non_null_records['OBSINSPETOR'].astype(str)\n",
    "        non_null_records['ALTERACAO'] = non_null_records['ALTERACAO'].astype(str)\n",
    "        non_null_records['OCORRENCIA'] = non_null_records['OCORRENCIA'].astype(str)\n",
    "        non_null_records['DESCRICAOALTERACAO'] = non_null_records['DESCRICAOALTERACAO'].fillna(0).astype('int32')\n",
    "        non_null_records['OBSSUPERVISOR'] = non_null_records['OBSSUPERVISOR'].astype(str)\n",
    "        non_null_records['StatusSupervisor'] = non_null_records['StatusSupervisor'].astype(str)\n",
    "        non_null_records['OBSCOORDENADOR'] = non_null_records['OBSCOORDENADOR'].fillna(0).astype('int32')\n",
    "        non_null_records['StatusCoordenador'] = non_null_records['StatusCoordenador'].astype(str)\n",
    "\n",
    "        # Tratar valores nulos: colunas numéricas com 0 e colunas de texto com string vazia\n",
    "        for column in non_null_records.columns:\n",
    "            if non_null_records[column].dtype in ['float64', 'int64']:\n",
    "                non_null_records[column] = non_null_records[column].fillna(0)  # Preencher numéricos com 0\n",
    "\n",
    "            else:\n",
    "                non_null_records[column] = non_null_records[column].fillna('')  # Preencher strings vazias\n",
    "\n",
    "        # # Lista de colunas a serem excluídas\n",
    "        # columns_to_drop = ['DataReposicao']\n",
    "        # # Exclui as colunas especificadas, se existirem\n",
    "        # non_null_records = non_null_records.drop(columns=[col for col in columns_to_drop if col in non_null_records.columns], errors='ignore')\n",
    "        \n",
    "        # Exibir os tipos de dados e uma amostra dos dados para verificação\n",
    "        print(\"10 - Tipos de dados das colunas:\")\n",
    "        print(non_null_records.dtypes)\n",
    "        \n",
    "        display(non_null_records)\n",
    "\n",
    "        return non_null_records\n",
    "\n",
    "    except Exception as e:\n",
    "        print_error(f\"10 - Ocorreu um erro: {e}\")\n"
   ]
  },
  {
   "cell_type": "markdown",
   "id": "69299c6c-f946-493e-b013-5ddf1a53eb09",
   "metadata": {},
   "source": [
    "## Main - Loop Principal para o Robô"
   ]
  },
  {
   "cell_type": "code",
   "execution_count": 45,
   "id": "2898780a-75d5-4b7a-971b-4eb8d128e74e",
   "metadata": {},
   "outputs": [],
   "source": [
    "def run_robot():\n",
    "    global ultima_execucao\n",
    "    while True:\n",
    "        print_ok(\"Iniciando o robô...\")\n",
    "        # Verifica se está na hora de trabalhar\n",
    "        sleep_until_next_run()\n",
    "        \n",
    "        print(\"Carregando as variáveis do arquivo de configuração...\")\n",
    "        # Carregar as variáveis\n",
    "        config = load_config(\"config.txt\")\n",
    "\n",
    "        print(\"Criando a pasta Processados se não existir...\")\n",
    "        # Criar a pasta Processados\n",
    "        processed_folder = create_processed_folder(config['caminho'])\n",
    "\n",
    "        print(\"Carregando arquivos Excel da pasta:\", config['caminho'])\n",
    "        # Carregar arquivos Excel\n",
    "        excel_files = load_excel_files(config['caminho'])\n",
    "\n",
    "        if excel_files:\n",
    "            print(\"Conectando ao banco de dados...\")\n",
    "            # Conectar ao banco de dados\n",
    "            senha = decrypt_password(config['senha'])\n",
    "            db_connection = connect_to_db(config['instancia'], config['banco'], config['login'], senha)\n",
    "            \n",
    "            # Processar arquivos\n",
    "            for file in excel_files:\n",
    "                print(f\"Processando arquivo: {file}\")\n",
    "                if insert_records_to_db(file, db_connection):  # Insira os registros no banco de dados\n",
    "                    print(f\"Arquivo {file} inserido no banco de dados.\")\n",
    "                    move_to_processed(file, processed_folder)  # Mova o arquivo para a pasta Processados\n",
    "                    print(f\"Arquivo {file} movido para a pasta Processados.\")\n",
    "                    ultima_execucao += 1\n",
    "\n",
    "            print(\"Aguardando até que a pasta esteja vazia...\")\n",
    "            # Esperar até que a pasta esteja vazia\n",
    "            wait_until_empty(config['caminho'])"
   ]
  },
  {
   "cell_type": "markdown",
   "id": "c7b7c477-6850-4b98-8a31-900ecbc66242",
   "metadata": {},
   "source": [
    "# Iniciar o Robô"
   ]
  },
  {
   "cell_type": "code",
   "execution_count": null,
   "id": "01a0e8c4-fb43-429b-9b56-c69e102617a8",
   "metadata": {},
   "outputs": [],
   "source": [
    "# Variável global para controlar a execução diária\n",
    "ultima_execucao = 0\n",
    "\n",
    "run_robot()"
   ]
  }
 ],
 "metadata": {
  "kernelspec": {
   "display_name": "Python 3 (ipykernel)",
   "language": "python",
   "name": "python3"
  },
  "language_info": {
   "codemirror_mode": {
    "name": "ipython",
    "version": 3
   },
   "file_extension": ".py",
   "mimetype": "text/x-python",
   "name": "python",
   "nbconvert_exporter": "python",
   "pygments_lexer": "ipython3",
   "version": "3.11.9"
  }
 },
 "nbformat": 4,
 "nbformat_minor": 5
}
